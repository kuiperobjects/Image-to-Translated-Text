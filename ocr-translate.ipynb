{
 "cells": [
  {
   "cell_type": "markdown",
   "metadata": {},
   "source": [
    "<h1> Optical Character Recogntion and Machine Translation using Google Services</h1> <br>"
   ]
  },
  {
   "cell_type": "markdown",
   "metadata": {},
   "source": [
    "<b> First, let's download tesseract's language model for Finnish. </b> "
   ]
  },
  {
   "cell_type": "code",
   "execution_count": 2,
   "metadata": {},
   "outputs": [
    {
     "name": "stdout",
     "output_type": "stream",
     "text": [
      "--2019-11-27 18:42:02--  https://github.com/tesseract-ocr/langdata/tree/master/fin\n",
      "Resolving github.com (github.com)... 140.82.114.4\n",
      "Connecting to github.com (github.com)|140.82.114.4|:443... connected.\n",
      "HTTP request sent, awaiting response... 200 OK\n",
      "Length: unspecified [text/html]\n",
      "Saving to: ‘fin’\n",
      "\n",
      "fin.3                   [ <=>                ]  62.28K  --.-KB/s    in 0.05s   \n",
      "\n",
      "2019-11-27 18:42:02 (1.13 MB/s) - ‘fin’ saved [63776]\n",
      "\n"
     ]
    }
   ],
   "source": [
    "!wget https://github.com/tesseract-ocr/langdata/tree/master/fin"
   ]
  },
  {
   "cell_type": "markdown",
   "metadata": {},
   "source": [
    "<b> Next, let's import the dependencies we need. </b>"
   ]
  },
  {
   "cell_type": "code",
   "execution_count": 4,
   "metadata": {},
   "outputs": [],
   "source": [
    "import glob \n",
    "import pytesseract \n",
    "\n",
    "from wand.image import Image as Img\n",
    "from PIL import Image\n",
    "\n",
    "from googletrans import Translator \n",
    "translator = Translator()"
   ]
  },
  {
   "cell_type": "markdown",
   "metadata": {},
   "source": [
    "<b>Specify input and output directories</b><br>\n",
    "In this example, I've hard coded the input and output dirs. If you want, you can uncomment to input the dirs. When converting this notebook to a python script, you can also use sys.argv to specify input and output dirs as command line arguments when executing. \n"
   ]
  },
  {
   "cell_type": "code",
   "execution_count": 6,
   "metadata": {},
   "outputs": [
    {
     "name": "stdout",
     "output_type": "stream",
     "text": [
      "/input/\n",
      "/output/\n",
      "Finished transcribing /input/URN_NBN_fi_jyu-20081112871-0.jpg\n",
      "Finished transcribing /input/URN_NBN_fi_jyu-20081112871-1.jpg\n",
      "Finished transcribing /input/URN_NBN_fi_jyu-20081112871-10.jpg\n",
      "Finished transcribing /input/URN_NBN_fi_jyu-20081112871-100.jpg\n",
      "Finished transcribing /input/URN_NBN_fi_jyu-20081112871-101.jpg\n",
      "Finished transcribing /input/URN_NBN_fi_jyu-20081112871-102.jpg\n",
      "Finished transcribing /input/URN_NBN_fi_jyu-20081112871-103.jpg\n",
      "Finished transcribing /input/URN_NBN_fi_jyu-20081112871-104.jpg\n",
      "Finished transcribing /input/URN_NBN_fi_jyu-20081112871-105.jpg\n"
     ]
    }
   ],
   "source": [
    "# input_dir = input('enter full working directory of images you want to transcribe. ')\n",
    "input_dir = \"/input/\"\n",
    "print(input_dir)\n",
    "\n",
    "# output_dir = input('enter the full working directory of where you want to put transcribed images. ')\n",
    "output_dir = \"/output/\"\n",
    "print(output_dir)\n",
    "\n",
    "images = []\n",
    "\n",
    "# turn each page of the .pdf into a numbered .jpg file and save the images to the input_dir\n",
    "for filename in glob.glob(input_dir+'*'):            \n",
    "    if filename.endswith('.pdf'):\n",
    "        fname = filename.split(input_dir)[1] # remove input path from filename\n",
    "        with Img(filename=filename, resolution=300) as img:\n",
    "            img.compression_quality = 60\n",
    "            img.save(filename=input_dir+fname.split('.pdf')[0]+'.jpg')\n",
    "\n",
    "# now open all the .jpgs in order and add them to a list\n",
    "for filename in sorted(glob.glob(input_dir+'*')):\n",
    "    if filename.endswith('.jpg'): \n",
    "        fname = filename.split(input_dir)[1] # remove input path \n",
    "        with open(filename, 'r+b') as image:\n",
    "            # for Tibetan OCR: lang='bod' \n",
    "            images.append(pytesseract.image_to_string(Image.open(image), lang='fin')) \n",
    "            print('Finished transcribing ' + filename)"
   ]
  },
  {
   "cell_type": "markdown",
   "metadata": {},
   "source": [
    "<b>Let's take a look at the text that has been extracted. <b>"
   ]
  },
  {
   "cell_type": "code",
   "execution_count": 35,
   "metadata": {},
   "outputs": [
    {
     "name": "stdout",
     "output_type": "stream",
     "text": [
      "ITSE OPPINUT TAITEILIJA\n",
      "\n",
      "- tapaustutkimus: Paavo Pyhtilä, 80v\n",
      "\n",
      "Jyväskylän yliopisto\n",
      "\n",
      "Taiteiden ja kulttuurintutkimuksen laitos\n",
      "Taidekasvatuksen pro gradu -tutkielma\n",
      "kevät 2008\n",
      "\n",
      "Pertti Pyhtilä\n",
      "JYVÄSKYLÄN YLIOPISTO\n",
      "\n",
      "Tiedekunta — Faculty Laitos — Department\n",
      "Humanistinen tiedekunta Taiteiden ja kulttuurin tutkimuksen laitos\n",
      "\n",
      "Tekijä — Author .\n",
      "Pertti Juhani PYHTILÄ\n",
      "\n",
      "Työn nimi — Title\n",
      "ITSE OPPINUT TAITEILIJA - tapaustutkimus: Paavo Pyhtilä, 80v\n",
      "\n",
      "Oppiaine — Subject Työn laji — Level\n",
      "Taidekasvatus Pro gradu -tutkielma\n",
      "\n",
      "Aika — Month and year Sivumäärä — Number of pages\n",
      "toukokuu 2008 136 + 5 liitettä = 178 sivua\n",
      "\n",
      "Tiivistelmä — Abstract: Itseoppinut taiteilija kompensoi ammatillisen taidekoulutuksen puutetta opiske-\n",
      "lemalla itsenäisesti moninkertaisesti koulutettuihin kollegoihinsa verrattuna. Hän epäilee taitojaan ja\n",
      "perehtyy siksi huolella tekniikoihin niitä — ilman ohjausta — luovasti kokeillen. Häneltä puuttuu taidekou-\n",
      "lun sosiaalistava ja identiteettiä rakentava verkosto, joten hän etsii taiteilijan malleja kirjallisuudesta ja\n",
      "taidekritiikeistä. Hän tutkii toistein taiteilijain teoksia valokuvista ja alkuperäisinä — ja taidemaailmaan\n",
      "päästyään keskustelee (harvojen) tapaamiensa taiteilijain kanssa. Itseoppineen opintopolut ovat siis mo-\n",
      "ninaiset\n",
      "\n",
      "Tapaustutkimukseni kohteena ollut taidemaalari Paavo Pyhtilä on syntynyt vuonna 1927. Hän piirsi\n",
      "lapsesta lähtien, mutta kävi sota-aikana kauppakoulun ja elätti nelilapsisen perheensä varaston- ja myy-\n",
      "mälänhoitajana koko ajan maalaten ja vapaan taiteilijan ammatista haaveillen. Kun kaksi lapsista oli\n",
      "kirjoittanut ylioppilaaksi, Pyhtilä toteutti unelmansa.\n",
      "\n",
      "Kirjallisuus on ollut kansalaiskoulun ja kaksivuotisen ammattikoulun käyneen Paavo Pyhtilän tärkein\n",
      "taidekasvattaja. Hän luki kotikaupunkinsa kirjaston taidekirjat niin tarkkaan, että kirjastonhoitaja ryhtyi\n",
      "lainaamaan hänelle käsikirjaston teoksia. Pyhtilä sai kirjoja lahjaksi sukulaisilta ja työtovereilta ja tilasi\n",
      "niitä kirjakaupan kautta 1950-luvulta alkaen. Hän luki kirjansa tarkkaan alleviivaten ja muistiinpanoja\n",
      "tehden, eri teosten värikuvia vertaillen ja lehtikuvia mustavalkoisten rinnalle liimaillen. Hyvin kuvitetut\n",
      "vieraskieliset teokset olivat tärkeitä vertailukohteita kielitaidon puutteesta huolimatta.\n"
      ]
    }
   ],
   "source": [
    "for image in images:\n",
    "    print(image)"
   ]
  },
  {
   "cell_type": "markdown",
   "metadata": {},
   "source": [
    "<b>Now let's translate the text into English.</b> "
   ]
  },
  {
   "cell_type": "code",
   "execution_count": 8,
   "metadata": {},
   "outputs": [],
   "source": [
    "im = []\n",
    "for image in images:\n",
    "    image = translator.translate(image, dest='en')\n",
    "    im.append(image)"
   ]
  },
  {
   "cell_type": "code",
   "execution_count": 36,
   "metadata": {},
   "outputs": [
    {
     "name": "stdout",
     "output_type": "stream",
     "text": [
      "Translated(src=fi, dest=en, text=Self-taught artist\n",
      "\n",
      "- case study: Paavo Pyhtilä, 80v\n",
      "\n",
      "University of Jyväskylä\n",
      "\n",
      "Department of Art and Culture Studies\n",
      "Art Education Master's thesis\n",
      "spring 2008\n",
      "\n",
      "Pertti Pyhtilä, pronunciation=None, extra_data=\"{'translat...\")\n",
      "Translated(src=fi, dest=en, text=UNIVERSITY OF JYVÄSKYLÄ\n",
      "\n",
      "The faculty - Faculty Department - Department\n",
      "Faculty of Humanities Department of Art and Culture Studies\n",
      "\n",
      "By - Author.\n",
      "Pertti Juhani Pyhtilä\n",
      "\n",
      "Title of Project - Title\n",
      "Self-taught artist - case study: Paavo Pyhtilä, 80v\n",
      "\n",
      "Subject - Subject Type - Level\n",
      "Arts Education Master's Thesis\n",
      "\n",
      "Time - Month and year Number of pages - Number of pages\n",
      "in May 2008 136 + 5 = 178 pages of appendices\n",
      "\n",
      "Abstract - Abstract: Self-taught artist compensates for the lack of professional art education student\n",
      "treating the poly-independently trained compared to their counterparts. He suspects skills and\n",
      "therefore, become familiar with the techniques carefully they are - without the guidance - creatively experimenting. He lacks taidekou-\n",
      "lun socializing and identity of a network of constructive, so he is looking for artists and models in the literature\n",
      "art critics. He examines toistein Artists' works from photographs and original - and the art world\n",
      "breaking discuss with the (few) meet on the artist. In fact, the erudite study paths are therefore many\n",
      "its diverse\n",
      "\n",
      "in the case of this study was the painter Paavo Pyhtilä was born in 1927. He drew\n",
      "since childhood, but it was during the war trade school and fed nelilapsisen family inventory and sell\n",
      "mälänhoitajana all the time by painting and freedom of the artist's profession dreamily. When two of the children were\n",
      "matriculation examination, Pyhtilä realized his dream.\n",
      "\n",
      "Literature has been a civil school and two-year vocational school Paavo fermentation in the main Pyhtilä\n",
      "art educator. He read his hometown library of art books so carefully that the librarian began\n",
      "to lend him a hand in the library books. Pyhtilä received books as gifts from relatives and colleagues and commissioned\n",
      "them through the bookstore since the 1950s. He read the book carefully underlining and notes\n",
      "making, alongside various works by comparing the color images and black and white pictures from magazines liimaillen. Well illustrated\n",
      "foreign language books were important points of comparison despite a lack of language skills.\n"
      ]
    }
   ],
   "source": [
    "for i in im:\n",
    "    print(i)"
   ]
  },
  {
   "cell_type": "markdown",
   "metadata": {},
   "source": [
    "<b>Now translate the text into Armenian.</b>"
   ]
  },
  {
   "cell_type": "code",
   "execution_count": 13,
   "metadata": {},
   "outputs": [],
   "source": [
    "im2 = []\n",
    "for image in images:\n",
    "    image = translator.translate(image, dest='hy')\n",
    "    im2.append(image)"
   ]
  },
  {
   "cell_type": "code",
   "execution_count": 14,
   "metadata": {},
   "outputs": [
    {
     "name": "stdout",
     "output_type": "stream",
     "text": [
      "Translated(src=fi, dest=hy, text=Ինքնուս նկարիչ\n",
      "\n",
      "- Case Study: Paavo Pyhtilä, 80v\n",
      "\n",
      "Համալսարան Jyväskylä\n",
      "\n",
      "Արվեստի վարչության եւ մշակույթի հետազոտությունների\n",
      "Գեղարվեստական ​​կրթության մագիստրոսի թեզը\n",
      "գարուն 2008\n",
      "\n",
      "Pertti Pyhtilä, pronunciation=None, extra_data=\"{'translat...\")\n",
      "Translated(src=fi, dest=hy, text=UNIVERSITY OF Jyväskylä\n",
      "\n",
      "The ֆակուլտետ - ֆակուլտետ Department - Department\n",
      "Հումանիտար ֆակուլտետի արվեստաբանության բաժնի եւ մշակույթի հետազոտությունների\n",
      "\n",
      "Ի - Հեղինակ:\n",
      "Pertti Juhani Pyhtilä\n",
      "\n",
      "Կոչում ծրագիր - Title\n",
      "Ինքնուս նկարիչ - Case Study: Paavo Pyhtilä, 80v\n",
      "\n",
      "Թեմա - Թեմա տեսակը - Level\n",
      "Գեղարվեստական ​​կրթության մագիստրոսական թեզ\n",
      "\n",
      "Time - ամիսը եւ տարին Էջերի թիվը - Էջերի քանակը\n",
      "2008-ի մայիսին 136 + 5 = 178 էջերը հավելվածներով\n",
      "\n",
      "Վերացական - վերացական: ինքնուս նկարիչ փոխհատուցում բացակայության մասնագիտական ​​արվեստի կրթության աշակերտի\n",
      "բուժումը poly-ինքնուրույն վերապատրաստված համեմատ իրենց գործընկերների հետ: Նա կասկածում է հմտություններ եւ\n",
      "հետեւաբար, ծանոթանալ տեխնիկայի ուշադիր, նրանք առանց առաջնորդության - ստեղծագործաբար փորձարկել. Նա չունի taidekou-\n",
      "Զաբուղոնի տեղացիների եւ ինքնությունը ցանցի կառուցողական, այնպես որ, նա փնտրում է արվեստագետների եւ մոդելների գրականության\n",
      "արվեստաբաններ: Նա ուսումնասիրում toistein նկարիչների գործերի լուսանկարներ եւ օրիգինալ, եւ արվեստի աշխարհը\n",
      "Հրատապ հետ քննարկել է (քիչ) հանդիպում են նկարչի. Ի դեպ, բանիմաց ուսումնասիրության ուղիներ են, հետեւաբար շատերը\n",
      "նրա բազմազան\n",
      "\n",
      "այն դեպքում, այս ուսումնասիրության էր նկարիչ Paavo Pyhtilä ծնվել է 1927 թվականի Նա նկարել\n",
      "մանկությունից, բայց դա եղել է պատերազմի ժամանակ, պրոֆտեխնիկական եւ սնվում nelilapsisen ընտանեկան գույքագրման եւ վաճառել\n",
      "mälänhoitajana ամբողջ ժամանակ են նկարել ու ազատությունը նկարչի մասնագիտության dreamily: Երբ երկու երեխաների էին\n",
      "ընդունելության քննություններին, Pyhtilä հասկացել է իր երազանքը:\n",
      "\n",
      "Գրականություն եղել է քաղաքացիական դպրոց եւ երկու տարի ուսումնարաններ Paavo խմորում է հիմնական Pyhtilä\n",
      "արվեստ մանկավարժ: Նա ընթերցեց իր հայրենի քաղաքը գրադարան արվեստի գրքերի, այնպես զգուշորեն, որ գրադարանավար սկսվեց\n",
      "է տալ նրան ձեռքը գրադարանի գրքերի. Pyhtilä ստացել գրքեր պարգեւներ են հարազատներին եւ գործընկերներին եւ հանձնարարել\n",
      "նրանց միջոցով գրախանութից ի վեր 1950. Նա կարդալ գիրքը ուշադիր ընդգծելով, եւ մասնիկներ\n",
      "դարձնելով, կողքին տարբեր աշխատանքների համեմատելով գունավոր պատկերները եւ սեւ ու սպիտակ նկարներ ամսագրերից liimaillen: Դե պատկերազարդ\n",
      "Օտարալեզու գրականություն էին կարեւոր կետերը համեմատության չնայած բացակայության լեզվի հմտությունների.\n"
     ]
    }
   ],
   "source": [
    "for i in im2:\n",
    "    print(i)"
   ]
  },
  {
   "cell_type": "markdown",
   "metadata": {},
   "source": [
    "<b> Finally, save the translation.</b>"
   ]
  },
  {
   "cell_type": "code",
   "execution_count": 25,
   "metadata": {},
   "outputs": [
    {
     "name": "stdout",
     "output_type": "stream",
     "text": [
      "Saving URN_NBN_fi_jyu-20081112871-99 as a translation.\n",
      "URN_NBN_fi_jyu-20081112871-99 has been saved!\n"
     ]
    }
   ],
   "source": [
    "print('Saving ' + fname.split('.jpg')[0] + \" as a translation.\")\n",
    "# to save as a .txt file\n",
    "with open(output_dir+filename.split(input_dir)[1][:-4]+'.docx', 'w+', encoding='utf-8') as transcript:\n",
    "\n",
    "# to save as a .docx file \n",
    "# with open(output_dir+filename.split(input_dir)[1][:-4]+'.txt', 'w+', encoding='utf-8') as transcript:\n",
    "    for i in im: \n",
    "        transcript.write(str(i))\n",
    "print(fname.split('.jpg')[0] + \" has been saved!\")"
   ]
  },
  {
   "cell_type": "code",
   "execution_count": null,
   "metadata": {},
   "outputs": [],
   "source": []
  }
 ],
 "metadata": {
  "kernelspec": {
   "display_name": "Python 3",
   "language": "python",
   "name": "python3"
  },
  "language_info": {
   "codemirror_mode": {
    "name": "ipython",
    "version": 3
   },
   "file_extension": ".py",
   "mimetype": "text/x-python",
   "name": "python",
   "nbconvert_exporter": "python",
   "pygments_lexer": "ipython3",
   "version": "3.7.3"
  }
 },
 "nbformat": 4,
 "nbformat_minor": 2
}
